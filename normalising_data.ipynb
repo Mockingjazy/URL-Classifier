{
  "cells": [
    {
      "cell_type": "code",
      "execution_count": null,
      "metadata": {
        "colab": {
          "base_uri": "https://localhost:8080/",
          "height": 73
        },
        "id": "5l9bCdzLFxQr",
        "outputId": "4026deb6-5e79-4e39-ec8c-fffe6fca6b2a"
      },
      "outputs": [
        {
          "output_type": "display_data",
          "data": {
            "text/plain": [
              "<IPython.core.display.HTML object>"
            ],
            "text/html": [
              "\n",
              "     <input type=\"file\" id=\"files-37ea2483-7df3-40a9-8e8a-926f1405bfed\" name=\"files[]\" multiple disabled\n",
              "        style=\"border:none\" />\n",
              "     <output id=\"result-37ea2483-7df3-40a9-8e8a-926f1405bfed\">\n",
              "      Upload widget is only available when the cell has been executed in the\n",
              "      current browser session. Please rerun this cell to enable.\n",
              "      </output>\n",
              "      <script>// Copyright 2017 Google LLC\n",
              "//\n",
              "// Licensed under the Apache License, Version 2.0 (the \"License\");\n",
              "// you may not use this file except in compliance with the License.\n",
              "// You may obtain a copy of the License at\n",
              "//\n",
              "//      http://www.apache.org/licenses/LICENSE-2.0\n",
              "//\n",
              "// Unless required by applicable law or agreed to in writing, software\n",
              "// distributed under the License is distributed on an \"AS IS\" BASIS,\n",
              "// WITHOUT WARRANTIES OR CONDITIONS OF ANY KIND, either express or implied.\n",
              "// See the License for the specific language governing permissions and\n",
              "// limitations under the License.\n",
              "\n",
              "/**\n",
              " * @fileoverview Helpers for google.colab Python module.\n",
              " */\n",
              "(function(scope) {\n",
              "function span(text, styleAttributes = {}) {\n",
              "  const element = document.createElement('span');\n",
              "  element.textContent = text;\n",
              "  for (const key of Object.keys(styleAttributes)) {\n",
              "    element.style[key] = styleAttributes[key];\n",
              "  }\n",
              "  return element;\n",
              "}\n",
              "\n",
              "// Max number of bytes which will be uploaded at a time.\n",
              "const MAX_PAYLOAD_SIZE = 100 * 1024;\n",
              "\n",
              "function _uploadFiles(inputId, outputId) {\n",
              "  const steps = uploadFilesStep(inputId, outputId);\n",
              "  const outputElement = document.getElementById(outputId);\n",
              "  // Cache steps on the outputElement to make it available for the next call\n",
              "  // to uploadFilesContinue from Python.\n",
              "  outputElement.steps = steps;\n",
              "\n",
              "  return _uploadFilesContinue(outputId);\n",
              "}\n",
              "\n",
              "// This is roughly an async generator (not supported in the browser yet),\n",
              "// where there are multiple asynchronous steps and the Python side is going\n",
              "// to poll for completion of each step.\n",
              "// This uses a Promise to block the python side on completion of each step,\n",
              "// then passes the result of the previous step as the input to the next step.\n",
              "function _uploadFilesContinue(outputId) {\n",
              "  const outputElement = document.getElementById(outputId);\n",
              "  const steps = outputElement.steps;\n",
              "\n",
              "  const next = steps.next(outputElement.lastPromiseValue);\n",
              "  return Promise.resolve(next.value.promise).then((value) => {\n",
              "    // Cache the last promise value to make it available to the next\n",
              "    // step of the generator.\n",
              "    outputElement.lastPromiseValue = value;\n",
              "    return next.value.response;\n",
              "  });\n",
              "}\n",
              "\n",
              "/**\n",
              " * Generator function which is called between each async step of the upload\n",
              " * process.\n",
              " * @param {string} inputId Element ID of the input file picker element.\n",
              " * @param {string} outputId Element ID of the output display.\n",
              " * @return {!Iterable<!Object>} Iterable of next steps.\n",
              " */\n",
              "function* uploadFilesStep(inputId, outputId) {\n",
              "  const inputElement = document.getElementById(inputId);\n",
              "  inputElement.disabled = false;\n",
              "\n",
              "  const outputElement = document.getElementById(outputId);\n",
              "  outputElement.innerHTML = '';\n",
              "\n",
              "  const pickedPromise = new Promise((resolve) => {\n",
              "    inputElement.addEventListener('change', (e) => {\n",
              "      resolve(e.target.files);\n",
              "    });\n",
              "  });\n",
              "\n",
              "  const cancel = document.createElement('button');\n",
              "  inputElement.parentElement.appendChild(cancel);\n",
              "  cancel.textContent = 'Cancel upload';\n",
              "  const cancelPromise = new Promise((resolve) => {\n",
              "    cancel.onclick = () => {\n",
              "      resolve(null);\n",
              "    };\n",
              "  });\n",
              "\n",
              "  // Wait for the user to pick the files.\n",
              "  const files = yield {\n",
              "    promise: Promise.race([pickedPromise, cancelPromise]),\n",
              "    response: {\n",
              "      action: 'starting',\n",
              "    }\n",
              "  };\n",
              "\n",
              "  cancel.remove();\n",
              "\n",
              "  // Disable the input element since further picks are not allowed.\n",
              "  inputElement.disabled = true;\n",
              "\n",
              "  if (!files) {\n",
              "    return {\n",
              "      response: {\n",
              "        action: 'complete',\n",
              "      }\n",
              "    };\n",
              "  }\n",
              "\n",
              "  for (const file of files) {\n",
              "    const li = document.createElement('li');\n",
              "    li.append(span(file.name, {fontWeight: 'bold'}));\n",
              "    li.append(span(\n",
              "        `(${file.type || 'n/a'}) - ${file.size} bytes, ` +\n",
              "        `last modified: ${\n",
              "            file.lastModifiedDate ? file.lastModifiedDate.toLocaleDateString() :\n",
              "                                    'n/a'} - `));\n",
              "    const percent = span('0% done');\n",
              "    li.appendChild(percent);\n",
              "\n",
              "    outputElement.appendChild(li);\n",
              "\n",
              "    const fileDataPromise = new Promise((resolve) => {\n",
              "      const reader = new FileReader();\n",
              "      reader.onload = (e) => {\n",
              "        resolve(e.target.result);\n",
              "      };\n",
              "      reader.readAsArrayBuffer(file);\n",
              "    });\n",
              "    // Wait for the data to be ready.\n",
              "    let fileData = yield {\n",
              "      promise: fileDataPromise,\n",
              "      response: {\n",
              "        action: 'continue',\n",
              "      }\n",
              "    };\n",
              "\n",
              "    // Use a chunked sending to avoid message size limits. See b/62115660.\n",
              "    let position = 0;\n",
              "    do {\n",
              "      const length = Math.min(fileData.byteLength - position, MAX_PAYLOAD_SIZE);\n",
              "      const chunk = new Uint8Array(fileData, position, length);\n",
              "      position += length;\n",
              "\n",
              "      const base64 = btoa(String.fromCharCode.apply(null, chunk));\n",
              "      yield {\n",
              "        response: {\n",
              "          action: 'append',\n",
              "          file: file.name,\n",
              "          data: base64,\n",
              "        },\n",
              "      };\n",
              "\n",
              "      let percentDone = fileData.byteLength === 0 ?\n",
              "          100 :\n",
              "          Math.round((position / fileData.byteLength) * 100);\n",
              "      percent.textContent = `${percentDone}% done`;\n",
              "\n",
              "    } while (position < fileData.byteLength);\n",
              "  }\n",
              "\n",
              "  // All done.\n",
              "  yield {\n",
              "    response: {\n",
              "      action: 'complete',\n",
              "    }\n",
              "  };\n",
              "}\n",
              "\n",
              "scope.google = scope.google || {};\n",
              "scope.google.colab = scope.google.colab || {};\n",
              "scope.google.colab._files = {\n",
              "  _uploadFiles,\n",
              "  _uploadFilesContinue,\n",
              "};\n",
              "})(self);\n",
              "</script> "
            ]
          },
          "metadata": {}
        },
        {
          "output_type": "stream",
          "name": "stdout",
          "text": [
            "Saving kaggle.csv to kaggle.csv\n"
          ]
        }
      ],
      "source": [
        "from google.colab import files\n",
        "uploaded = files.upload()"
      ]
    },
    {
      "cell_type": "code",
      "execution_count": null,
      "metadata": {
        "colab": {
          "base_uri": "https://localhost:8080/"
        },
        "id": "kFE7J4YtLshD",
        "outputId": "3cc39886-49d4-45ad-bf62-644cf5d584d3"
      },
      "outputs": [
        {
          "output_type": "stream",
          "name": "stdout",
          "text": [
            "Requirement already satisfied: scikit-learn in /usr/local/lib/python3.10/dist-packages (1.2.2)\n",
            "Requirement already satisfied: numpy>=1.17.3 in /usr/local/lib/python3.10/dist-packages (from scikit-learn) (1.22.4)\n",
            "Requirement already satisfied: scipy>=1.3.2 in /usr/local/lib/python3.10/dist-packages (from scikit-learn) (1.10.1)\n",
            "Requirement already satisfied: joblib>=1.1.1 in /usr/local/lib/python3.10/dist-packages (from scikit-learn) (1.2.0)\n",
            "Requirement already satisfied: threadpoolctl>=2.0.0 in /usr/local/lib/python3.10/dist-packages (from scikit-learn) (3.1.0)\n"
          ]
        }
      ],
      "source": [
        "!pip install scikit-learn"
      ]
    },
    {
      "cell_type": "code",
      "execution_count": null,
      "metadata": {
        "id": "xcrweCO6F8nK"
      },
      "outputs": [],
      "source": [
        "import pandas as pd\n",
        "\n",
        "# Load the dataset\n",
        "df = pd.read_csv('kaggle.csv')"
      ]
    },
    {
      "cell_type": "code",
      "execution_count": null,
      "metadata": {
        "colab": {
          "base_uri": "https://localhost:8080/"
        },
        "id": "EmRcHdnra0sa",
        "outputId": "46a13380-cf8c-4f01-9816-2ea9fc12ba8a"
      },
      "outputs": [
        {
          "output_type": "stream",
          "name": "stdout",
          "text": [
            "                                                      URL  Label  HaveIP  \\\n",
            "0                                  https://www.google.com      0       0   \n",
            "1                   https://www.spokeo.com/William+Shreve      0       0   \n",
            "2             https://www.sbsmnlaw.com/attorney-profiles/      0       0   \n",
            "3       https://www.encyclopedia.com/video/nolls1fJIXw...      0       0   \n",
            "4       https://www.californiabeat.org/2010/11/11/frui...      0       0   \n",
            "...                                                   ...    ...     ...   \n",
            "450171                  https://www.myspace.com/roguewave      0       0   \n",
            "450172  http://giftcardblogger.com/wp-json/oembed/1.0/...      1       0   \n",
            "450173           https://www.alumniclass.com/state/kansas      0       0   \n",
            "450174  https://www.baseball-almanac.com/teamstats/ros...      0       0   \n",
            "450175        https://www.123people.ca/s/monique+williams      0       0   \n",
            "\n",
            "        HaveAt  URLLength  URLDepth  Https  PrefixSuffix  HaveClient  \\\n",
            "0            0   0.006071         2      1             0           0   \n",
            "1            0   0.012576         3      1             0           0   \n",
            "2            0   0.015178         4      1             1           0   \n",
            "3            0   0.029488         4      1             1           0   \n",
            "4            0   0.036427         6      1             1           0   \n",
            "...        ...        ...       ...    ...           ...         ...   \n",
            "450171       0   0.010841         3      1             0           0   \n",
            "450172       0   0.055941        11      0             1           0   \n",
            "450173       0   0.013877         4      1             0           0   \n",
            "450174       0   0.025152         4      1             1           0   \n",
            "450175       0   0.015178         4      1             0           0   \n",
            "\n",
            "        HaveAdmin  ...  NumParameters  NumDigits  NumSpecChar  TemptingWords  \\\n",
            "0               0  ...              0   0.000000     0.011765              0   \n",
            "1               0  ...              0   0.000000     0.023529              0   \n",
            "2               0  ...              0   0.000000     0.029412              0   \n",
            "3               0  ...              0   0.001585     0.058824              0   \n",
            "4               0  ...              0   0.012678     0.070588              0   \n",
            "...           ...  ...            ...        ...          ...            ...   \n",
            "450171          0  ...              0   0.000000     0.017647              0   \n",
            "450172          0  ...              2   0.015848     0.129412              0   \n",
            "450173          0  ...              0   0.000000     0.023529              0   \n",
            "450174          0  ...              2   0.006339     0.058824              0   \n",
            "450175          0  ...              0   0.004754     0.029412              0   \n",
            "\n",
            "        Image  LoginOrUpload  SpellingErrorInDomain  RawWordCount  \\\n",
            "0           0              0                      1      0.018072   \n",
            "1           0              0                      2      0.030120   \n",
            "2           0              0                      2      0.030120   \n",
            "3           0              0                      1      0.066265   \n",
            "4           0              0                      2      0.078313   \n",
            "...       ...            ...                    ...           ...   \n",
            "450171      0              0                      1      0.024096   \n",
            "450172      0              0                      1      0.132530   \n",
            "450173      0              0                      2      0.030120   \n",
            "450174      0              0                      2      0.066265   \n",
            "450175      0              0                      2      0.036145   \n",
            "\n",
            "        HostnameLength  PathLength  \n",
            "0             0.058333    0.000000  \n",
            "1             0.058333    0.007907  \n",
            "2             0.066667    0.010016  \n",
            "3             0.083333    0.025303  \n",
            "4             0.091667    0.032683  \n",
            "...                ...         ...  \n",
            "450171        0.062500    0.005271  \n",
            "450172        0.079167    0.013179  \n",
            "450173        0.079167    0.006853  \n",
            "450174        0.100000    0.011070  \n",
            "450175        0.066667    0.010016  \n",
            "\n",
            "[450176 rows x 32 columns]\n"
          ]
        }
      ],
      "source": [
        "# Copy the data\n",
        "df_min_max_scaled = df.copy()\n",
        "\n",
        "# Columns to normalize\n",
        "columns_to_normalize = ['URLLength', 'NumDigits', 'NumSpecChar', 'RawWordCount', 'HostnameLength', 'PathLength']\n",
        "\n",
        "# Apply min-max normalization to the specified columns\n",
        "for column in columns_to_normalize:\n",
        "    min_val = df_min_max_scaled[column].min()\n",
        "    max_val = df_min_max_scaled[column].max()\n",
        "    df_min_max_scaled[column] = (df_min_max_scaled[column] - min_val) / (max_val - min_val)\n",
        "\n",
        "# View the normalized data\n",
        "print(df_min_max_scaled)\n"
      ]
    },
    {
      "cell_type": "code",
      "execution_count": null,
      "metadata": {
        "id": "YxCLyeroKcbK"
      },
      "outputs": [],
      "source": [
        "# Save the modified DataFrame back to CSV\n",
        "df_min_max_scaled.to_csv('normalised32.csv', index=False)"
      ]
    },
    {
      "cell_type": "code",
      "execution_count": null,
      "metadata": {
        "colab": {
          "base_uri": "https://localhost:8080/",
          "height": 34
        },
        "id": "XzcTDmN2KhF5",
        "outputId": "68cbd338-faea-4b77-9db6-8b4bcec636c4"
      },
      "outputs": [
        {
          "output_type": "display_data",
          "data": {
            "text/plain": [
              "<IPython.core.display.Javascript object>"
            ],
            "application/javascript": [
              "\n",
              "    async function download(id, filename, size) {\n",
              "      if (!google.colab.kernel.accessAllowed) {\n",
              "        return;\n",
              "      }\n",
              "      const div = document.createElement('div');\n",
              "      const label = document.createElement('label');\n",
              "      label.textContent = `Downloading \"${filename}\": `;\n",
              "      div.appendChild(label);\n",
              "      const progress = document.createElement('progress');\n",
              "      progress.max = size;\n",
              "      div.appendChild(progress);\n",
              "      document.body.appendChild(div);\n",
              "\n",
              "      const buffers = [];\n",
              "      let downloaded = 0;\n",
              "\n",
              "      const channel = await google.colab.kernel.comms.open(id);\n",
              "      // Send a message to notify the kernel that we're ready.\n",
              "      channel.send({})\n",
              "\n",
              "      for await (const message of channel.messages) {\n",
              "        // Send a message to notify the kernel that we're ready.\n",
              "        channel.send({})\n",
              "        if (message.buffers) {\n",
              "          for (const buffer of message.buffers) {\n",
              "            buffers.push(buffer);\n",
              "            downloaded += buffer.byteLength;\n",
              "            progress.value = downloaded;\n",
              "          }\n",
              "        }\n",
              "      }\n",
              "      const blob = new Blob(buffers, {type: 'application/binary'});\n",
              "      const a = document.createElement('a');\n",
              "      a.href = window.URL.createObjectURL(blob);\n",
              "      a.download = filename;\n",
              "      div.appendChild(a);\n",
              "      a.click();\n",
              "      div.remove();\n",
              "    }\n",
              "  "
            ]
          },
          "metadata": {}
        },
        {
          "output_type": "display_data",
          "data": {
            "text/plain": [
              "<IPython.core.display.Javascript object>"
            ],
            "application/javascript": [
              "download(\"download_ea6ffc37-c8c5-4f7c-b814-22764c31192d\", \"normalised32.csv\", 99703425)"
            ]
          },
          "metadata": {}
        }
      ],
      "source": [
        "from google.colab import files\n",
        "\n",
        "files.download('normalised32.csv')"
      ]
    }
  ],
  "metadata": {
    "colab": {
      "provenance": []
    },
    "kernelspec": {
      "display_name": "Python 3",
      "name": "python3"
    },
    "language_info": {
      "name": "python"
    }
  },
  "nbformat": 4,
  "nbformat_minor": 0
}